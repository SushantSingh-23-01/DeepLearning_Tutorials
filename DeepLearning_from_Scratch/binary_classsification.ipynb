{
 "cells": [
  {
   "cell_type": "code",
   "execution_count": 1,
   "metadata": {},
   "outputs": [],
   "source": [
    "import numpy as np\n",
    "import pandas as pd\n",
    "from sklearn.datasets import make_blobs\n",
    "import matplotlib.pyplot as plt\n",
    "plt.style.use('dark_background')"
   ]
  },
  {
   "cell_type": "markdown",
   "metadata": {},
   "source": [
    "`References:`\n",
    "<br><br>**Link1 (Recommended)**: https://www.youtube.com/watch?v=gl3lfL-g5mA\n",
    "<br><br>Link2: https://www.youtube.com/watch?v=JXX5Ea0TXTM&list=PL_iWQOsE6TfVmKkQHucjPAoRtIJYt8a5A&index=16\n",
    "<br><br>Link3: https://www.youtube.com/watch?v=Ixl3nykKG9M\n",
    "<br><br>Link4: https://www.youtube.com/watch?v=S-LBjNVlMzw"
   ]
  },
  {
   "cell_type": "markdown",
   "metadata": {},
   "source": [
    "### Scalar Notations"
   ]
  },
  {
   "cell_type": "markdown",
   "metadata": {},
   "source": [
    "Mapping from $i^{th}$ neuron to $j^{th}$ neuron of $(l-1)^{th}$ and $l^{th}$ layers respectively, we have following equations\n",
    "<br><br>$z_j^l = \\displaystyle\\sum_{i}w_{ij}^l \\cdot a_i^{l-1} + b_j^l\\\\[1em]\n",
    "a_j^l = \\sigma(z_j^l)$\n",
    "<br><br> For our last layer $L$,\n",
    "<br><br>$C= \\frac{1}{2}\\displaystyle\\sum_{i}(y_i^l-a_i^l)^2$\n",
    "<br><br>$\\frac {\\partial C}{\\partial z_j^L} = \\delta_j^L$\n",
    "<br><br>$\\frac {\\partial C}{\\partial z_j^L} = \\frac {\\partial a_j^L}{\\partial z_j^L}\\cdot\\frac {\\partial C}{\\partial a_j^L} = \\sigma'(z_j^l)\\cdot(a_j^L - y_j^L)$"
   ]
  },
  {
   "cell_type": "markdown",
   "metadata": {},
   "source": [
    "### Equivalent Vector Notations"
   ]
  },
  {
   "cell_type": "markdown",
   "metadata": {},
   "source": [
    "$z^l = (W^l)^Ta^{l-1}+b^l$\n",
    "<br><br>$a^l = \\sigma(z^l)$\n",
    "<br><br>$\\delta^l = W^{l+1}\\delta^{l+1}\\odot \\sigma'(z_j^l)$\n",
    "<br><br>$\\frac {\\partial C}{\\partial W^l} = a^{l-1}(\\delta^l)^T$\n",
    "<br><br>$\\frac {\\partial C}{\\partial b^l} = \\delta^l\\\\[1em]$"
   ]
  },
  {
   "cell_type": "markdown",
   "metadata": {},
   "source": [
    "### Coding it out"
   ]
  },
  {
   "cell_type": "code",
   "execution_count": 2,
   "metadata": {},
   "outputs": [],
   "source": [
    "X, y = make_blobs(n_samples=20, centers=2,random_state=42)  "
   ]
  },
  {
   "cell_type": "code",
   "execution_count": 3,
   "metadata": {},
   "outputs": [
    {
     "data": {
      "text/plain": [
       "(20,)"
      ]
     },
     "execution_count": 3,
     "metadata": {},
     "output_type": "execute_result"
    }
   ],
   "source": [
    "y.shape"
   ]
  },
  {
   "cell_type": "code",
   "execution_count": 4,
   "metadata": {},
   "outputs": [],
   "source": [
    "X_val, y_val = X[10:,:], y[10:]  \n",
    "X,y = X[:10,:], y[:10]\n",
    "X_norm = np.linalg.norm(X)\n",
    "X = X / X_norm"
   ]
  },
  {
   "cell_type": "code",
   "execution_count": 5,
   "metadata": {},
   "outputs": [
    {
     "data": {
      "image/png": "[encoded data removed]",
      "text/plain": [
       "<Figure size 500x300 with 1 Axes>"
      ]
     },
     "metadata": {},
     "output_type": "display_data"
    }
   ],
   "source": [
    "plt.figure(figsize=(5,3))\n",
    "for i in range(4):\n",
    "    plt.scatter(\n",
    "        x= X[y == i, 0],\n",
    "        y = X[y==i, 1],\n",
    "        s=40\n",
    "    )"
   ]
  },
  {
   "cell_type": "code",
   "execution_count": 6,
   "metadata": {},
   "outputs": [
    {
     "data": {
      "text/html": [
       "<div>\n",
       "<style scoped>\n",
       "    .dataframe tbody tr th:only-of-type {\n",
       "        vertical-align: middle;\n",
       "    }\n",
       "\n",
       "    .dataframe tbody tr th {\n",
       "        vertical-align: top;\n",
       "    }\n",
       "\n",
       "    .dataframe thead th {\n",
       "        text-align: right;\n",
       "    }\n",
       "</style>\n",
       "<table border=\"1\" class=\"dataframe\">\n",
       "  <thead>\n",
       "    <tr style=\"text-align: right;\">\n",
       "      <th></th>\n",
       "      <th>x1</th>\n",
       "      <th>x2</th>\n",
       "      <th>y</th>\n",
       "    </tr>\n",
       "  </thead>\n",
       "  <tbody>\n",
       "    <tr>\n",
       "      <th>0</th>\n",
       "      <td>-0.036452</td>\n",
       "      <td>0.383403</td>\n",
       "      <td>0</td>\n",
       "    </tr>\n",
       "    <tr>\n",
       "      <th>1</th>\n",
       "      <td>-0.165960</td>\n",
       "      <td>0.331284</td>\n",
       "      <td>0</td>\n",
       "    </tr>\n",
       "    <tr>\n",
       "      <th>2</th>\n",
       "      <td>-0.116752</td>\n",
       "      <td>0.374589</td>\n",
       "      <td>0</td>\n",
       "    </tr>\n",
       "    <tr>\n",
       "      <th>3</th>\n",
       "      <td>0.177331</td>\n",
       "      <td>0.065538</td>\n",
       "      <td>1</td>\n",
       "    </tr>\n",
       "    <tr>\n",
       "      <th>4</th>\n",
       "      <td>-0.116514</td>\n",
       "      <td>0.335068</td>\n",
       "      <td>0</td>\n",
       "    </tr>\n",
       "    <tr>\n",
       "      <th>5</th>\n",
       "      <td>0.190051</td>\n",
       "      <td>0.000529</td>\n",
       "      <td>1</td>\n",
       "    </tr>\n",
       "    <tr>\n",
       "      <th>6</th>\n",
       "      <td>0.158280</td>\n",
       "      <td>0.149942</td>\n",
       "      <td>1</td>\n",
       "    </tr>\n",
       "    <tr>\n",
       "      <th>7</th>\n",
       "      <td>-0.138049</td>\n",
       "      <td>0.365640</td>\n",
       "      <td>0</td>\n",
       "    </tr>\n",
       "    <tr>\n",
       "      <th>8</th>\n",
       "      <td>0.160527</td>\n",
       "      <td>0.081688</td>\n",
       "      <td>1</td>\n",
       "    </tr>\n",
       "    <tr>\n",
       "      <th>9</th>\n",
       "      <td>-0.107528</td>\n",
       "      <td>0.344146</td>\n",
       "      <td>0</td>\n",
       "    </tr>\n",
       "  </tbody>\n",
       "</table>\n",
       "</div>"
      ],
      "text/plain": [
       "         x1        x2  y\n",
       "0 -0.036452  0.383403  0\n",
       "1 -0.165960  0.331284  0\n",
       "2 -0.116752  0.374589  0\n",
       "3  0.177331  0.065538  1\n",
       "4 -0.116514  0.335068  0\n",
       "5  0.190051  0.000529  1\n",
       "6  0.158280  0.149942  1\n",
       "7 -0.138049  0.365640  0\n",
       "8  0.160527  0.081688  1\n",
       "9 -0.107528  0.344146  0"
      ]
     },
     "execution_count": 6,
     "metadata": {},
     "output_type": "execute_result"
    }
   ],
   "source": [
    "df = pd.DataFrame(data={'x1':X[:,0],'x2':X[:,1],'y':y})\n",
    "df"
   ]
  },
  {
   "cell_type": "code",
   "execution_count": 7,
   "metadata": {},
   "outputs": [
    {
     "name": "stdout",
     "output_type": "stream",
     "text": [
      "Number of samples : 10\n",
      "Number of input features : 2\n",
      "Number of output features : 2\n"
     ]
    }
   ],
   "source": [
    "num_samples = X.shape[0]                  # Batch of samples\n",
    "in_features = X.shape[1]                            # number input of features\n",
    "out_features = np.unique(y)                          # number of output features\n",
    "print(f'Number of samples : {num_samples}')\n",
    "print(f'Number of input features : {in_features}')\n",
    "print(f'Number of output features : {out_features.shape[0]}')"
   ]
  },
  {
   "cell_type": "code",
   "execution_count": 8,
   "metadata": {},
   "outputs": [],
   "source": [
    "def one_hot_encoder(y):\n",
    "    y_one_hot = np.zeros((y.size, y.max()+1), dtype=int)\n",
    "    y_one_hot[np.arange(y.size),y] = 1\n",
    "    return y_one_hot\n",
    "y_one_hot = one_hot_encoder(y)"
   ]
  },
  {
   "cell_type": "code",
   "execution_count": 9,
   "metadata": {},
   "outputs": [
    {
     "data": {
      "text/plain": [
       "array([[1, 0],\n",
       "       [1, 0],\n",
       "       [1, 0],\n",
       "       [0, 1],\n",
       "       [1, 0],\n",
       "       [0, 1],\n",
       "       [0, 1],\n",
       "       [1, 0],\n",
       "       [0, 1],\n",
       "       [1, 0]])"
      ]
     },
     "execution_count": 9,
     "metadata": {},
     "output_type": "execute_result"
    }
   ],
   "source": [
    "y_one_hot"
   ]
  },
  {
   "cell_type": "code",
   "execution_count": 10,
   "metadata": {},
   "outputs": [],
   "source": [
    "sigmoid = lambda x: 1 / (1 + np.exp(x))"
   ]
  },
  {
   "cell_type": "code",
   "execution_count": 11,
   "metadata": {},
   "outputs": [],
   "source": [
    "def softmax(logits):\n",
    "    exps = np.exp(logits - logits.max())\n",
    "    return exps / np.sum(exps,axis=1).reshape(exps.shape[0],1)"
   ]
  },
  {
   "cell_type": "code",
   "execution_count": 12,
   "metadata": {},
   "outputs": [],
   "source": [
    "def BCEloss(y_true,y_pred,eps=1e-6):\n",
    "    return -(y_true * np.log(y_pred + eps) + (1-y_true) * np.log(1-y_pred + eps))"
   ]
  },
  {
   "cell_type": "code",
   "execution_count": 13,
   "metadata": {},
   "outputs": [],
   "source": [
    "hidden_dim = 10"
   ]
  },
  {
   "cell_type": "code",
   "execution_count": 14,
   "metadata": {},
   "outputs": [
    {
     "name": "stdout",
     "output_type": "stream",
     "text": [
      "---------- INPUT AND OUTPUT SIZES ----------\n",
      "\n",
      "Input : (10, 2)\n",
      "Output: (10, 2)\n"
     ]
    }
   ],
   "source": [
    "print('-'*10,'INPUT AND OUTPUT SIZES','-'*10)\n",
    "print(f'\\nInput : {X.shape}\\nOutput: {y_one_hot.shape}')"
   ]
  },
  {
   "cell_type": "code",
   "execution_count": 31,
   "metadata": {},
   "outputs": [
    {
     "name": "stdout",
     "output_type": "stream",
     "text": [
      "---------- PARAMETER SIZES ----------\n",
      "\n",
      "Layer 1:\n",
      "\tWeight_1 : (10, 10)\n",
      "\tBias_1:    (10, 1)\n",
      "Layer 2:\n",
      "\tWeight_2: (10, 10)\n",
      "\tBias_2:   (10, 1)\n"
     ]
    }
   ],
   "source": [
    "w1 = np.random.randn(num_samples,hidden_dim) * num_samples ** -0.5\n",
    "b1 = np.zeros((hidden_dim,1))\n",
    "w2 = np.random.randn(hidden_dim,num_samples) * hidden_dim ** -0.5\n",
    "b2 = np.zeros((num_samples,1))\n",
    "print('-'*10,'PARAMETER SIZES','-'*10)\n",
    "print(f'\\nLayer 1:\\n\\tWeight_1 : {w1.shape}\\n\\tBias_1:    {b1.shape}\\nLayer 2:\\n\\tWeight_2: {w2.shape}\\n\\tBias_2:   {b2.shape}')"
   ]
  },
  {
   "cell_type": "code",
   "execution_count": 16,
   "metadata": {},
   "outputs": [
    {
     "name": "stdout",
     "output_type": "stream",
     "text": [
      "---------- HIDDEN STATE OUTPUT SIZES ----------\n",
      "\n",
      "Layer 1:\n",
      "\tLinear_1:     (10, 2)\n",
      "\tActivation_1: (10, 2)\n",
      "\n",
      "Layer 1:\n",
      "\tLinear_2:     (10, 2)\n",
      "\tActivation_1: (10, 2)\n"
     ]
    }
   ],
   "source": [
    "z1 =  w1.T @ X + b1\n",
    "a1 = sigmoid(z1)\n",
    "z2 = w2.T @ a1 + b2\n",
    "a2 = sigmoid(z2)\n",
    "print('-'*10,'HIDDEN STATE OUTPUT SIZES','-'*10)\n",
    "print(f'\\nLayer 1:\\n\\tLinear_1:     {z1.shape}\\n\\tActivation_1: {a1.shape}')\n",
    "print(f'\\nLayer 1:\\n\\tLinear_2:     {z2.shape}\\n\\tActivation_1: {a2.shape}')"
   ]
  },
  {
   "cell_type": "code",
   "execution_count": 17,
   "metadata": {},
   "outputs": [
    {
     "name": "stdout",
     "output_type": "stream",
     "text": [
      "Loss matrix size : (10, 2)\n",
      "Averaged Binary Cross Entropy Loss: 0.7465597612050219\n"
     ]
    }
   ],
   "source": [
    "loss = BCEloss(y_one_hot,a2)\n",
    "print(f'Loss matrix size : {loss.shape}')\n",
    "print(f'Averaged Binary Cross Entropy Loss: {loss.mean()}')"
   ]
  },
  {
   "cell_type": "markdown",
   "metadata": {},
   "source": [
    "##### Backpropogation"
   ]
  },
  {
   "cell_type": "markdown",
   "metadata": {},
   "source": [
    "<h4>Gradient of Binary Cross Entropy with Sigmoid Activation (For Stability Reasons)</h4>"
   ]
  },
  {
   "cell_type": "markdown",
   "metadata": {},
   "source": [
    "\\begin{align}\n",
    "L(u) &= -p \\log(\\sigma(u)) - (1-p)\\log(1 - \\sigma(u)) \\\\\n",
    "&= -p\\log( \\frac{e^u}{1+e^u} ) - (1-p) \\log( \\frac{1}{1+e^u}) \\\\\n",
    "&= -pu +\\log(1 + e^u). \\\\\n",
    "&L’(u) = \\sigma(u) - p.\n",
    "\\end{align}\n"
   ]
  },
  {
   "cell_type": "code",
   "execution_count": 30,
   "metadata": {},
   "outputs": [
    {
     "name": "stdout",
     "output_type": "stream",
     "text": [
      "Gradient of Loss with respect to last activation (matrix) size : (10, 2)\n"
     ]
    }
   ],
   "source": [
    "dz2 = a2 - y_one_hot\n",
    "print(f'Gradient of Loss with respect to last activation (matrix) size : {dz2.shape}')"
   ]
  },
  {
   "cell_type": "code",
   "execution_count": null,
   "metadata": {},
   "outputs": [
    {
     "name": "stdout",
     "output_type": "stream",
     "text": [
      "---------- GRADIENT SIZES ----------\n",
      "\n",
      "Weight 2 grad : (10, 10)\n",
      "Bias 2 grad : (10, 1) \n",
      "\n",
      "Weight 1 grad : (10, 10)\n",
      "Bias 1 grad : (10, 1) \n"
     ]
    }
   ],
   "source": [
    "dz2 = a2 - y_one_hot\n",
    "dw2 = a1 @ dz2.T\n",
    "db2 = np.sum(db1, axis=1, keepdims=True)\n",
    "da1 = sigmoid(z1) * (1-sigmoid(z1))\n",
    "dz1 = w1 @ dz2 * da1\n",
    "dw1 =  X @ dz1.T \n",
    "db1 = np.sum(dz1, axis=1, keepdims=True)\n",
    "print(f'\\nWeight 2 grad : {dw2.shape}\\nBias 2 grad : {db2.shape} ')\n",
    "print(f'\\nWeight 1 grad : {dw2.shape}\\nBias 1 grad : {db2.shape} ')"
   ]
  },
  {
   "cell_type": "markdown",
   "metadata": {},
   "source": [
    "#### Training our network"
   ]
  },
  {
   "cell_type": "markdown",
   "metadata": {},
   "source": [
    "`Note:` For some reason adding gradients in case of bias is leading to high validation errors, so size is changed from (num_samples X 1) to (num_samples X in_features)"
   ]
  },
  {
   "cell_type": "code",
   "execution_count": 40,
   "metadata": {},
   "outputs": [
    {
     "name": "stdout",
     "output_type": "stream",
     "text": [
      "Averaged BCE Train Loss: 0.719003 | Averaged BCE Val Loss: 0.501467\n",
      "Averaged BCE Train Loss: 0.064358 | Averaged BCE Val Loss: 0.146015\n",
      "Averaged BCE Train Loss: 0.028574 | Averaged BCE Val Loss: 0.132054\n",
      "Averaged BCE Train Loss: 0.017901 | Averaged BCE Val Loss: 0.131077\n",
      "Averaged BCE Train Loss: 0.012900 | Averaged BCE Val Loss: 0.132825\n",
      "Averaged BCE Train Loss: 0.010029 | Averaged BCE Val Loss: 0.135385\n",
      "Averaged BCE Train Loss: 0.008175 | Averaged BCE Val Loss: 0.138196\n",
      "Averaged BCE Train Loss: 0.006885 | Averaged BCE Val Loss: 0.141052\n",
      "Averaged BCE Train Loss: 0.005936 | Averaged BCE Val Loss: 0.143872\n",
      "Averaged BCE Train Loss: 0.005212 | Averaged BCE Val Loss: 0.146621\n"
     ]
    }
   ],
   "source": [
    "w1 = np.random.randn(hidden_dim,num_samples) * hidden_dim ** -0.5\n",
    "b1 = np.zeros((hidden_dim,in_features))\n",
    "w2 = np.random.randn(num_samples,hidden_dim) * num_samples ** -0.5\n",
    "b2 = np.zeros((num_samples,in_features))\n",
    "\n",
    "epochs = 100\n",
    "lr = 1\n",
    "loss_log = []\n",
    "val_log = []\n",
    "for i in range(epochs):\n",
    "    \n",
    "    # Forward Pass\n",
    "    z1 =  w1.T @ X + b1\n",
    "    a1 = sigmoid(z1)\n",
    "    z2 = w2.T @ a1 + b2\n",
    "    a2 = sigmoid(z2)\n",
    "    loss = BCEloss(y_one_hot,a2)\n",
    "    \n",
    "    # backward pass\n",
    "    #da2 = (a2 - y_one_hot )/ (a2*(1-a2))\n",
    "    #dz2 = da2 * a2 * (1-a2) \n",
    "    dz2= a2 - y_one_hot\n",
    "    dw2 = a1 @ dz2.T\n",
    "    #db2 = np.sum(dz2, axis=1, keepdims=True)\n",
    "    db2 = dz2\n",
    "    da1 = sigmoid(z1) * (1-sigmoid(z1))\n",
    "    dz1 = w1 @ dz2 * da1\n",
    "    dw1 =  X @ dz1.T \n",
    "    #db1 = np.sum(dz1, axis=1, keepdims=True)\n",
    "    db1 = dz1\n",
    "\n",
    "    # Gradient descent\n",
    "    w1 += lr * dw1\n",
    "    b1 += lr * db1\n",
    "    w2 += lr * dw2\n",
    "    b2 += lr * db2\n",
    "    \n",
    "    loss_log.append(loss.mean())\n",
    "    \n",
    "    # Validation\n",
    "    z1 =  w1.T @ X_val + b1\n",
    "    a1 = sigmoid(z1)\n",
    "    z2 = w2.T @ a1 + b2\n",
    "    a2 = sigmoid(z2)\n",
    "    val_loss = BCEloss(y_one_hot,a2)\n",
    "    val_log.append(val_loss.mean())\n",
    "    if i % (epochs / 10)  == 0:\n",
    "        print(f'Averaged BCE Train Loss: {loss.mean():.6f} | Averaged BCE Val Loss: {val_loss.mean():.6f}')"
   ]
  },
  {
   "cell_type": "markdown",
   "metadata": {},
   "source": [
    "`Our model has likely overfit`"
   ]
  },
  {
   "cell_type": "code",
   "execution_count": 41,
   "metadata": {},
   "outputs": [
    {
     "data": {
      "image/png": "[encoded data removed]",
      "text/plain": [
       "<Figure size 500x300 with 1 Axes>"
      ]
     },
     "metadata": {},
     "output_type": "display_data"
    }
   ],
   "source": [
    "plt.figure(figsize=(5,3))\n",
    "plt.plot(np.arange(len(loss_log)),loss_log)\n",
    "plt.plot(np.arange(len(val_log)),val_log)\n",
    "plt.legend(['train loss','validation loss']);"
   ]
  },
  {
   "cell_type": "markdown",
   "metadata": {},
   "source": [
    "**Overfitting is mainly due to out dataset being too small**"
   ]
  }
 ],
 "metadata": {
  "kernelspec": {
   "display_name": "NLP",
   "language": "python",
   "name": "python3"
  },
  "language_info": {
   "codemirror_mode": {
    "name": "ipython",
    "version": 3
   },
   "file_extension": ".py",
   "mimetype": "text/x-python",
   "name": "python",
   "nbconvert_exporter": "python",
   "pygments_lexer": "ipython3",
   "version": "3.11.8"
  }
 },
 "nbformat": 4,
 "nbformat_minor": 2
}
